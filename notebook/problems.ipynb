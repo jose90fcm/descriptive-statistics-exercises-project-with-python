{
    "cells": [
        {
            "cell_type": "markdown",
            "id": "ac622319",
            "metadata": {},
            "source": [
                "# Descriptive statistics problems"
            ]
        },
        {
            "cell_type": "markdown",
            "id": "aa8993e4",
            "metadata": {},
            "source": [
                "### Exercise 1"
            ]
        },
        {
            "cell_type": "markdown",
            "id": "5e0ab0d5",
            "metadata": {},
            "source": [
                "We will use Numpy to obtain information to describe statistically.\n",
                "\n",
                "- Generate an array of 100 elements following a normal distribution.\n",
                "- Generate an array of 100 elements following a chi-square distribution with 3 degrees of freedom.\n",
                "- Calculate the main metrics and statistical measures that best describe the two vectors."
            ]
        },
        {
            "cell_type": "code",
            "execution_count": 4,
            "id": "34720ab6",
            "metadata": {},
            "outputs": [
                {
                    "name": "stdout",
                    "output_type": "stream",
                    "text": [
                        "[ 0.5474461   0.10184693  0.6569272   0.11105075 -0.29918484  0.74359522\n",
                        "  0.60467285  1.41598531  1.37752256  0.35131331  0.70015574 -1.17004878\n",
                        " -0.99748237 -0.15937427  0.2642146  -0.03605774  0.51856217 -1.39120527\n",
                        " -1.59976522  0.0324958  -1.61502644 -0.79520079  0.40964935 -0.42812238\n",
                        "  1.13888212  0.31151694 -0.22402597  0.48217366 -2.54578894 -0.36809727\n",
                        " -0.75871181 -0.32649568  0.08330964 -0.94594267 -0.2782801  -1.7819974\n",
                        "  0.50251712  1.32377871  0.51429606 -0.94334371  0.15802037 -0.25430599\n",
                        " -2.03579329  0.17502725 -0.64605084 -1.47590565  0.11235165  0.44482858\n",
                        "  2.62064461  0.12497487 -1.10246437  0.48157598 -0.377316    0.24426678\n",
                        "  0.15871631 -0.93080128 -0.94073987  1.4226853   0.11250963 -0.77574527\n",
                        " -0.75286196 -0.20719327  0.41412822 -1.31559755  1.14940504 -1.74953453\n",
                        "  0.65188832  2.11812586 -1.54338351  1.06424394  0.07379353  0.22890237\n",
                        "  0.96257934 -0.2349251   1.31100824  1.43294704 -0.20021291 -0.71760611\n",
                        " -0.01431449 -0.97499126 -0.34102431 -1.42924412  1.30475941  0.51324661\n",
                        "  0.04758466 -0.97505709 -0.10482236 -0.39201819 -0.67090829  0.19190726\n",
                        "  0.44174159  0.8046602  -0.08346618 -1.99023165  0.88693707 -0.94057725\n",
                        "  0.98225158 -0.29901451  0.53934544  3.52080699]\n",
                        "[ 3.45966735 12.38199778  3.01147376  1.67638829  7.75587514  0.07714038\n",
                        "  6.08838248  1.19038663  0.49834241  0.53563055  1.15503899  0.65069522\n",
                        "  1.22546018  5.81977683  9.96085501  4.00316357  2.080055    0.74996867\n",
                        "  4.56800297  1.41294017 13.66166734  2.50136557  2.73580592  7.37261603\n",
                        "  1.24005671  5.68304419  1.79677273  3.43791427  3.87718837  2.41405765\n",
                        "  0.69308399  1.38317244  4.86912799  4.3270541   2.44545399  1.84908484\n",
                        "  2.18437166  1.68997491  0.07304992  4.73021918  0.19726486  3.16307915\n",
                        "  0.19908083  4.25530079  3.27963041  4.45664659  3.805908    5.91339145\n",
                        "  2.42036666  0.43656674  2.65461054  6.01447617  1.02420063  3.34914887\n",
                        "  7.00499662  6.3976798   0.31957453  5.32397477  2.22898582  4.40297282\n",
                        "  2.26015433  0.73462869  0.56427131  1.51831917  1.4655507   2.72625474\n",
                        "  1.1816103   3.75560012  3.55680488  0.97772928  3.87080841 15.82466367\n",
                        "  1.05950427  1.50075599  1.81343958  9.33622221  1.22117134  0.82959983\n",
                        "  0.83016429  2.18563276  5.56050392  1.01019828  7.56537555  9.19375216\n",
                        "  1.46452785  8.99315633  2.64699705  0.47857789  1.02032039  4.67249392\n",
                        "  2.85623507  2.04454274  0.31515743  1.42801891  0.92148066  2.9963742\n",
                        "  3.4800156   4.09600123  2.33829641  0.41130036]\n",
                        "normal mean:-0.03252482660290059\n",
                        "chi mean:3.2482039103208193\n",
                        "normal mode:0.5474461042237015\n",
                        "chi mode:3.4596673497949757\n",
                        "normal median:0.06068909832549457\n",
                        "chi median:2.4172121545988507\n",
                        "normal max:3.5208069900030203\n",
                        "chi max:15.824663666655944\n",
                        "normal min:-2.545788944212623\n",
                        "chi min:0.07304991533884417\n",
                        "normal variance:1.0190698287230002\n",
                        "chi variance:8.911040460558816\n",
                        "normal variance:1.0094898853990564\n",
                        "chi variance:2.9851365899333344\n",
                        "normal skew:0.28919037327203767\n",
                        "chi skew:1.7904860472398156\n",
                        "normal kurtosis:0.28919037327203767\n",
                        "chi kurtosis:1.7904860472398156\n"
                    ]
                }
            ],
            "source": [
                "# TODO\n",
                "\n",
                "import numpy as np\n",
                "import statistics as stats\n",
                "from scipy.stats import skew\n",
                "from scipy.stats import kurtosis\n",
                "\n",
                "\n",
                "normal = np.random.normal(size=100)\n",
                "chi = np.random.chisquare(3,100)\n",
                "\n",
                "print(normal)\n",
                "print(chi)\n",
                "\n",
                "normal_mean = stats.mean(normal)\n",
                "chi_mean = stats.mean(chi)\n",
                "\n",
                "print(\"normal mean:\" + str(normal_mean))\n",
                "print(\"chi mean:\" + str(chi_mean))\n",
                "\n",
                "\n",
                "\n",
                "normal_mode= stats.mode(normal)\n",
                "chi_mode=stats.mode(chi)\n",
                "\n",
                "print(\"normal mode:\" + str(normal_mode))\n",
                "print(\"chi mode:\" + str(chi_mode))\n",
                "\n",
                "\n",
                "\n",
                "normal_median= stats.median(normal)\n",
                "chi_median=stats.median(chi)\n",
                "\n",
                "print(\"normal median:\" + str(normal_median))\n",
                "print(\"chi median:\" + str(chi_median))\n",
                "\n",
                "\n",
                "\n",
                "normal_max= max(normal)\n",
                "chi_max=max(chi)\n",
                "\n",
                "print(\"normal max:\" + str(normal_max))\n",
                "print(\"chi max:\" + str(chi_max))\n",
                "\n",
                "\n",
                "\n",
                "normal_min= min(normal)\n",
                "chi_min= min(chi)\n",
                "\n",
                "print(\"normal min:\" + str(normal_min))\n",
                "print(\"chi min:\" + str(chi_min))\n",
                "\n",
                "normal_var = stats.variance(normal)\n",
                "chi_var = stats.variance(chi)\n",
                "\n",
                "print(\"normal variance:\" + str(normal_var))\n",
                "print(\"chi variance:\" + str(chi_var))\n",
                "\n",
                "normal_st = stats.stdev(normal)\n",
                "chi_st = stats.stdev(chi)\n",
                "\n",
                "print(\"normal variance:\" + str(normal_st))\n",
                "print(\"chi variance:\" + str(chi_st))\n",
                "\n",
                "\n",
                "normal_skew = skew(normal)\n",
                "chi_skew = skew(chi)\n",
                "\n",
                "print(\"normal skew:\" + str(normal_skew))\n",
                "print(\"chi skew:\" + str(chi_skew))\n",
                "\n",
                "\n",
                "normal_kurtosis = kurtosis(normal)\n",
                "chi_kurtosis = kurtosis(chi)\n",
                "\n",
                "print(\"normal kurtosis:\" + str(normal_skew))\n",
                "print(\"chi kurtosis:\" + str(chi_skew))\n"
            ]
        },
        {
            "cell_type": "markdown",
            "id": "46c70c3d",
            "metadata": {},
            "source": [
                "### Exercise 2\n",
                "\n",
                "Write a Python program to calculate the standard deviation of the following data:\n",
                "\n",
                "```py\n",
                "data = [4, 2, 5, 8, 6]\n",
                "```"
            ]
        },
        {
            "cell_type": "code",
            "execution_count": 4,
            "id": "d590308e",
            "metadata": {},
            "outputs": [
                {
                    "data": {
                        "text/plain": [
                            "2.23606797749979"
                        ]
                    },
                    "execution_count": 4,
                    "metadata": {},
                    "output_type": "execute_result"
                }
            ],
            "source": [
                "# TODO\n",
                "\n",
                "import math\n",
                "data = [4,2,5,8,6]\n",
                "\n",
                "def calculate_stdev (data):\n",
                "    n= len(data)\n",
                "    if n < 1:\n",
                "        return 0\n",
                "    \n",
                "    mean = sum(data) / n\n",
                "    variance = sum((x - mean) ** 2 for x in data) / (n - 1)\n",
                "    std_dev = math.sqrt(variance)\n",
                "    return std_dev    \n",
                "\n",
                "result = calculate_stdev(data)\n",
                "result"
            ]
        }
    ],
    "metadata": {
        "interpreter": {
            "hash": "9248718ffe6ce6938b217e69dbcc175ea21f4c6b28a317e96c05334edae734bb"
        },
        "kernelspec": {
            "display_name": "Python 3.9.12 ('ML-BOOTCAMP')",
            "language": "python",
            "name": "python3"
        },
        "language_info": {
            "codemirror_mode": {
                "name": "ipython",
                "version": 3
            },
            "file_extension": ".py",
            "mimetype": "text/x-python",
            "name": "python",
            "nbconvert_exporter": "python",
            "pygments_lexer": "ipython3",
            "version": "3.11.4"
        }
    },
    "nbformat": 4,
    "nbformat_minor": 5
}
